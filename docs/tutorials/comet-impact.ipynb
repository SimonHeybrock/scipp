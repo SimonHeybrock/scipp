{
 "cells": [
  {
   "cell_type": "markdown",
   "id": "6c573579-f097-4de6-a59d-5178423dd3e2",
   "metadata": {
    "tags": []
   },
   "source": [
    "# Comet Impact\n",
    "## Importing Scipp\n",
    "\n",
    "The canonical way to import scipp is as `sc`:"
   ]
  },
  {
   "cell_type": "code",
   "execution_count": null,
   "id": "790d1705-22b2-4464-8184-6c30da3bd8e1",
   "metadata": {},
   "outputs": [],
   "source": [
    "import scipp as sc"
   ]
  },
  {
   "cell_type": "markdown",
   "id": "7be414a3-2ff3-4b12-a714-8e6bfbcaeef5",
   "metadata": {},
   "source": [
    "After having watched the 2021 movie \"Don't Look Up\" we may wonder:\n",
    "If such a comet is destroyed/dismantled an the debris/pieces impacts the earth's atmosphere, by how much is this going to raise the air temperature?\n",
    "\n",
    "Far from a serious analysis, we are going to use scipp for a back-of-the-envelope calculation.\n",
    "Scipp's physical units will increase our confidence that we did not mess up.\n",
    "Let us start with the following assumptions:\n",
    "\n",
    "- 100% of the comet's kinetic energy is converted into thermal energy raising the earth's air temperature.\n",
    "  We ignore heating of comet material, or pieces impacting the earth's surface.\n",
    "- 100% of the comet debris actually hits the atmosphere, i.e., the debris has not spread out enough to partially miss.\n",
    "\n",
    "## Physical quantities\n",
    "\n",
    "For starters, we need to know the mass of the atmosphere.\n",
    "We can compute this from the earth surface $A_\\text{air}$ and the air pressure at sea level $P_\\text{air}$.\n",
    "In the following we will use scalar-valued (as opposed to array-valued) quantities.\n",
    "We can create these with scipp using a value and a physical unit.\n",
    "The earth radius is:"
   ]
  },
  {
   "cell_type": "code",
   "execution_count": null,
   "id": "98624626-e3e7-4376-b753-2fc327bae4f7",
   "metadata": {},
   "outputs": [],
   "source": [
    "r_earth = sc.scalar(6371., unit='km')"
   ]
  },
  {
   "cell_type": "markdown",
   "id": "9801baff-dc3a-47e7-8285-5fa4c85d7f42",
   "metadata": {},
   "source": [
    "We can inspect the value of this variable by typing it at the end of a notebook cell:"
   ]
  },
  {
   "cell_type": "code",
   "execution_count": null,
   "id": "5fe019de-0c32-4cdd-b0ea-f56ab498456e",
   "metadata": {},
   "outputs": [],
   "source": [
    "r_earth"
   ]
  },
  {
   "cell_type": "markdown",
   "id": "b4c75b99-446a-4e0c-a8e2-36b746845511",
   "metadata": {},
   "source": [
    "Above the empty tuple `()` indicates that this is a 0-D variable, i.e., it has a single value.\n",
    "\n",
    "## Unit conversions\n",
    "\n",
    "We know the pressure at sea level $P_\\text{air} \\approx 1~\\text{bar}$ (we could use a more precise value, but the difference is completely irrelevant given the other assumptions and approximations made in the ballpark calculation).\n",
    "Since we want to work in SI units we need to convert this to $N/m^2$.\n",
    "Scipp has a built-in feature for such conversions, using the `to` method with the `unit` keyword argument:"
   ]
  },
  {
   "cell_type": "code",
   "execution_count": null,
   "id": "7f521d50-7d57-48f5-8e7a-c7e7fbcd27b5",
   "metadata": {},
   "outputs": [],
   "source": [
    "P_air = sc.scalar(1.0, unit='bar').to(unit='N/m**2')\n",
    "P_air"
   ]
  },
  {
   "cell_type": "markdown",
   "id": "b03f3550-8712-48e8-9737-bfe6b4f73145",
   "metadata": {},
   "source": [
    "## Physical constants\n",
    "\n",
    "To proceed, we need to compute the mass (of air) that would excert such a pressure.\n",
    "For this we need the gravitational acceleration.\n",
    "The `scipp.constants` module provides this:"
   ]
  },
  {
   "cell_type": "code",
   "execution_count": null,
   "id": "42430fd3-9de5-4ec6-a05c-a62e18abba3b",
   "metadata": {},
   "outputs": [],
   "source": [
    "from scipp.constants import g"
   ]
  },
  {
   "cell_type": "markdown",
   "id": "e59af7ef-1f00-428e-8f41-a83a1b63f666",
   "metadata": {},
   "source": [
    "The constants are scalar variables, similar to those we defined earlier ourselves:"
   ]
  },
  {
   "cell_type": "code",
   "execution_count": null,
   "id": "d4e4d3fa-d5ce-4c22-b919-6a1ec37e5b13",
   "metadata": {},
   "outputs": [],
   "source": [
    "g"
   ]
  },
  {
   "cell_type": "markdown",
   "id": "b3cf3453-4372-4881-b570-1ce3ed04a2d9",
   "metadata": {},
   "source": [
    "## Computation\n",
    "\n",
    "We assume that $g$ is roughly constant for the relevant altitude range and obtain, using $P=F/A$ and $F = mg$.\n",
    "We will also need $\\pi$ to compute the earth's surface area from its radius, which we can import from `scipp.constants`:"
   ]
  },
  {
   "cell_type": "code",
   "execution_count": null,
   "id": "0f52b13a-2d02-431a-aaef-9aac28bbdd30",
   "metadata": {},
   "outputs": [],
   "source": [
    "from scipp.constants import pi\n",
    "A_air = 4 * pi * r_earth**2\n",
    "m_air = A_air * P_air/g\n",
    "m_air"
   ]
  },
  {
   "cell_type": "markdown",
   "id": "51f6c50a-565e-4996-8781-ee71918610ac",
   "metadata": {},
   "source": [
    "We note the odd scale factor in the unit of this result.\n",
    "This originates from (the square of) the unit of `km` we used for the earth radius.\n",
    "Scipp does not automatically move scale factors of the unit to the value.\n",
    "Instead, we need to request this by converting the unit:"
   ]
  },
  {
   "cell_type": "code",
   "execution_count": null,
   "id": "d69a495e-621a-481a-9bcd-8bcb47cda0f5",
   "metadata": {},
   "outputs": [],
   "source": [
    "m_air = m_air.to(unit='kg')\n",
    "m_air"
   ]
  },
  {
   "cell_type": "markdown",
   "id": "626f2d86-204b-49d9-a868-8bc1558e8824",
   "metadata": {},
   "source": [
    "We may compare to [Wikipedia](https://en.wikipedia.org/wiki/Atmosphere_of_Earth), which lists  $5.15\\cdot 10^{18}~\\text{kg}$, i.e., our estimation is correct so far."
   ]
  },
  {
   "cell_type": "markdown",
   "id": "2c3f9001-e77d-4c6f-8bcd-2f153dcb6628",
   "metadata": {},
   "source": [
    "Next, we need to estimate the kinetic energy of the comet.\n",
    "We have $E_\\text{kin} = \\frac{1}{2} mv^2$.\n",
    "The diameter of the comet in the movie is $9~\\text{km}$.\n",
    "A quick internet research shows that comets may have quite a low density, even lighter than water.\n",
    "The average impact speed of comets from the outer solar system is around $50~\\text{km/s}$.\n",
    "Let us set:"
   ]
  },
  {
   "cell_type": "code",
   "execution_count": null,
   "id": "a576691d-39c3-46b6-961c-e6cc17e4ea42",
   "metadata": {},
   "outputs": [],
   "source": [
    "rho = 0.6 * sc.Unit('g/cm^3')  # lighter than water\n",
    "r = 9.0 * sc.Unit('km') / 2\n",
    "v = 50.0 * sc.Unit('km/s')"
   ]
  },
  {
   "cell_type": "markdown",
   "id": "f3651b7c-08fa-419c-8476-d566cb68bc0a",
   "metadata": {},
   "source": [
    "Then"
   ]
  },
  {
   "cell_type": "code",
   "execution_count": null,
   "id": "0005e9e1-843a-4422-8ac0-12b0e76844d6",
   "metadata": {},
   "outputs": [],
   "source": [
    "m = rho * 4/3 * pi * r**3\n",
    "E_kin = 0.5 * m * v**2\n",
    "E_kin"
   ]
  },
  {
   "cell_type": "markdown",
   "id": "52437dbb-6eeb-4fe0-8efe-f90a68810ec5",
   "metadata": {},
   "source": [
    "We also lookup the specific heat of air, $1.005~\\text{J/g/K}$, and obtain a warming $\\Delta T$ of the earth atmosphere by"
   ]
  },
  {
   "cell_type": "code",
   "execution_count": null,
   "id": "01d7b4f3-2d02-41b2-8440-0739cd440d90",
   "metadata": {},
   "outputs": [],
   "source": [
    "c_air = 1.005 * sc.Unit('J/(g*K)')\n",
    "delta_T = E_kin/(c_air * m_air)\n",
    "delta_T.to(unit='K')"
   ]
  },
  {
   "cell_type": "markdown",
   "id": "1313d8c5-334e-4ef9-a9c3-4d75cf1c4217",
   "metadata": {},
   "source": [
    "## Arrays\n",
    "\n",
    "So far we have worked with 0-D variables, i.e., quantities with a single value.\n",
    "Scipp's main focus is however operations with arrays of values.\n",
    "We will show in the following how we can use this with our above calculation.\n",
    "\n",
    "Before we begin, let us combine some of the computational steps done above into a reusable function:"
   ]
  },
  {
   "cell_type": "code",
   "execution_count": null,
   "id": "4490a9d8-b647-4c1e-9da6-ebc8e70c49d2",
   "metadata": {},
   "outputs": [],
   "source": [
    "def temperature_increase(rho, r, v):\n",
    "    \"\"\"\n",
    "    Compute temperature increase caused by impact of object\n",
    "    with density rho, radius r and velocity v.\n",
    "    \"\"\"\n",
    "    m = rho * 4 / 3 * pi * r**3\n",
    "    E_kin = 0.5 * m * v**2\n",
    "    delta_T = E_kin / (c_air * m_air)\n",
    "    return delta_T.to(unit='K')"
   ]
  },
  {
   "cell_type": "markdown",
   "id": "0048f5bb-a71c-4b09-9f59-b0ff07c43011",
   "metadata": {},
   "source": [
    "We could call this function multiple times with different velocities.\n",
    "If you are familiar with NumPy you may recognize that we may instead pass arrays as the arguments of this function.\n",
    "The values of scipp's variables work similar to NumPy arrays.\n",
    "We can create a 1-D variable of velocities:"
   ]
  },
  {
   "cell_type": "code",
   "execution_count": null,
   "id": "de078215-f87d-433e-ba7c-94be6254c77d",
   "metadata": {},
   "outputs": [],
   "source": [
    "v = sc.array(dims=['velocity'], values=[20., 30., 40., 50.], unit='km/s')\n",
    "v"
   ]
  },
  {
   "cell_type": "markdown",
   "id": "5b20ed91-adf0-47c4-9f8e-0970b5263f44",
   "metadata": {},
   "source": [
    "In contrast to a plain NumPy array, the scipp variable also stores a unit and a tuple of dimension labels.\n",
    "We can use this array of velocities to compute multiple temperature increases at a time:"
   ]
  },
  {
   "cell_type": "code",
   "execution_count": null,
   "id": "72c8acd8-0646-45e2-994c-123590c5c22a",
   "metadata": {},
   "outputs": [],
   "source": [
    "temperature_increase(rho=rho, r=r, v=v)"
   ]
  },
  {
   "cell_type": "markdown",
   "id": "f9b92820-29df-44f2-ad8e-cdb00445006b",
   "metadata": {},
   "source": [
    "We could also define multiple comet radii and compute:"
   ]
  },
  {
   "cell_type": "code",
   "execution_count": null,
   "id": "7c68e2cf-8946-4f39-a3f0-31e7f862ade5",
   "metadata": {},
   "outputs": [],
   "source": [
    "r = sc.array(dims=['radius'], values=[2.0, 4.0, 8.0], unit='km')\n",
    "temp = temperature_increase(rho=rho, r=r, v=v)\n",
    "temp"
   ]
  },
  {
   "cell_type": "markdown",
   "id": "dd455367-ee04-4306-b4e8-b712c3959e68",
   "metadata": {},
   "source": [
    "The function now returns a 2-D variable.\n",
    "Since `r` and `v` have different dimension labels scipp automatically computes a value for each possible combination.\n",
    "This is called *broadcasting*.\n",
    "\n",
    "The dimension labels can be used, e.g., to specify which dimension to slice.\n",
    "We can obtain a view for the second radius value using:"
   ]
  },
  {
   "cell_type": "code",
   "execution_count": null,
   "id": "9430b3ec-fe1b-4fa9-98f7-1c30e306dc1d",
   "metadata": {},
   "outputs": [],
   "source": [
    "temp['radius', 1]"
   ]
  },
  {
   "cell_type": "markdown",
   "id": "89fca0e6-35eb-4aaa-a82c-1b07d6647d6a",
   "metadata": {},
   "source": [
    "One thing is missing from our result:\n",
    "It is difficult to identify which data value belong to which value of `r` and `v`.\n",
    "This can be achieved by storing them as *coordinates* of the data, using scipp's `DataArray`, which is covered in other tutorials."
   ]
  }
 ],
 "metadata": {
  "kernelspec": {
   "display_name": "Python 3 (ipykernel)",
   "language": "python",
   "name": "python3"
  },
  "language_info": {
   "codemirror_mode": {
    "name": "ipython",
    "version": 3
   },
   "file_extension": ".py",
   "mimetype": "text/x-python",
   "name": "python",
   "nbconvert_exporter": "python",
   "pygments_lexer": "ipython3",
   "version": "3.8.13"
  }
 },
 "nbformat": 4,
 "nbformat_minor": 5
}
